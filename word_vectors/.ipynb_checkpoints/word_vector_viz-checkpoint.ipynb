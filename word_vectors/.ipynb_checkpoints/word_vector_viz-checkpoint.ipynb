{
 "cells": [
  {
   "cell_type": "code",
   "execution_count": 2,
   "id": "94363c7d-1f36-46e7-b2c0-66168261c4f1",
   "metadata": {},
   "outputs": [],
   "source": [
    "# Get the interactive Tools for Matplotlib\n",
    "import matplotlib.pyplot as plt\n",
    "%matplotlib notebook\n",
    "%matplotlib inline\n",
    "\n",
    "import plotly.graph_objects as go\n",
    "import plotly.express as px\n",
    "\n",
    "\n",
    "\n",
    "# Get tools to download files and load them \n",
    "import pickle\n",
    "import urllib.request\n",
    "from os.path import exists as check_path\n",
    "from os import makedirs\n",
    "\n",
    "# Get tools to performe analysis\n",
    "import numpy as np\n",
    "from heapq import heappushpop\n",
    "from sklearn.decomposition import PCA"
   ]
  },
  {
   "cell_type": "code",
   "execution_count": 3,
   "id": "7b6466d8-3112-405f-b103-260958d63650",
   "metadata": {},
   "outputs": [],
   "source": [
    "def download_files_from_github(file_target_dir):\n",
    "    main_url = 'https://raw.githubusercontent.com/Goussha/word-vector-visualization/master/'\n",
    "    if not check_path(file_target_dir):\n",
    "        makedirs(file_target_dir)\n",
    "    \n",
    "    urls = [main_url+'file{}.p'.format(x) for x in range(1,9)]\n",
    "    file_names = [file_target_dir+'file{}.p'.format(x) for x in range(1,9)]\n",
    "    for file_name, url in zip(file_names, urls):\n",
    "        if not check_path(file_name):\n",
    "            print (\"Downloading file: \",file_name)\n",
    "            filename, headers = urllib.request.urlretrieve(url, filename=file_name)\n",
    "        else:\n",
    "            print('Allready exists: {}'.format(file_name))"
   ]
  },
  {
   "cell_type": "code",
   "execution_count": 4,
   "id": "8d542a48-9985-4e20-b1a3-b2c8120eeb32",
   "metadata": {},
   "outputs": [],
   "source": [
    "def load_word2vecfiles(file_target_dir):\n",
    "    word_dict_loded = {}\n",
    "    for file_num in range(1,9):\n",
    "        full_file_name = file_target_dir+'file{}.p'.format(file_num)\n",
    "        print('Loading file: {}'.format(full_file_name))\n",
    "        with open(full_file_name, 'rb') as fp:\n",
    "            data = pickle.load(fp)\n",
    "        word_dict_loded.update(data)\n",
    "    return word_dict_loded"
   ]
  },
  {
   "cell_type": "code",
   "execution_count": 5,
   "id": "2bd09e01-a286-443d-8138-f11426f3b17f",
   "metadata": {},
   "outputs": [
    {
     "name": "stdout",
     "output_type": "stream",
     "text": [
      "Downloading file:  ./tmp/file1.p\n",
      "Downloading file:  ./tmp/file2.p\n",
      "Downloading file:  ./tmp/file3.p\n",
      "Downloading file:  ./tmp/file4.p\n",
      "Downloading file:  ./tmp/file5.p\n",
      "Downloading file:  ./tmp/file6.p\n",
      "Downloading file:  ./tmp/file7.p\n",
      "Downloading file:  ./tmp/file8.p\n",
      "Loading file: ./tmp/file1.p\n",
      "Loading file: ./tmp/file2.p\n",
      "Loading file: ./tmp/file3.p\n",
      "Loading file: ./tmp/file4.p\n",
      "Loading file: ./tmp/file5.p\n",
      "Loading file: ./tmp/file6.p\n",
      "Loading file: ./tmp/file7.p\n",
      "Loading file: ./tmp/file8.p\n"
     ]
    }
   ],
   "source": [
    "file_target_dir = \"./tmp/\"\n",
    "\n",
    "#Download files\n",
    "download_files_from_github(file_target_dir)\n",
    "#Load files and create dict\n",
    "word_dict = load_word2vecfiles(file_target_dir)"
   ]
  },
  {
   "cell_type": "markdown",
   "id": "076dc461-9041-4b81-8ef4-ef288602f87c",
   "metadata": {},
   "source": [
    "## cosine similarity\n",
    "- reflects the degree of similarity between two vectors"
   ]
  },
  {
   "cell_type": "code",
   "execution_count": null,
   "id": "e2ab7f4f-d9c7-4b3e-a136-2a4797a57156",
   "metadata": {},
   "outputs": [],
   "source": [
    "def cosine_similarity(u, v):\n",
    "    distance = 0.0\n",
    "    epsilon = 1e-10 # prevent deviding by 0\n",
    "    dot = np.dot(u.T, v)\n",
    "    # Compute the L2 norm of u & v\n",
    "    norm_u = np.sqrt(np.sum(u**2))\n",
    "    norm_v = np.sqrt(np.sum(v**2))\n",
    "    cosine_similarity = dot/((norm_u*norm_v)+epsilon)\n",
    "    return cosine_similarity    "
   ]
  }
 ],
 "metadata": {
  "kernelspec": {
   "display_name": "Python 3 (ipykernel)",
   "language": "python",
   "name": "python3"
  },
  "language_info": {
   "codemirror_mode": {
    "name": "ipython",
    "version": 3
   },
   "file_extension": ".py",
   "mimetype": "text/x-python",
   "name": "python",
   "nbconvert_exporter": "python",
   "pygments_lexer": "ipython3",
   "version": "3.9.18"
  }
 },
 "nbformat": 4,
 "nbformat_minor": 5
}
